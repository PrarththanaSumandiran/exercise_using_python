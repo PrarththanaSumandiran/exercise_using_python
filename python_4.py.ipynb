{
 "cells": [
  {
   "cell_type": "code",
   "execution_count": 3,
   "id": "ce3c44a4",
   "metadata": {},
   "outputs": [
    {
     "name": "stdout",
     "output_type": "stream",
     "text": [
      "hhheeellllllooo\n"
     ]
    }
   ],
   "source": [
    "def function(word):\n",
    "    new_word = \"\"\n",
    "    for i in word:\n",
    "        new_word = new_word + (i * 3)\n",
    "       \n",
    "    print (new_word)\n",
    "\n",
    "function(\"hello\")"
   ]
  },
  {
   "cell_type": "code",
   "execution_count": 6,
   "id": "39f4af32",
   "metadata": {},
   "outputs": [
    {
     "name": "stdout",
     "output_type": "stream",
     "text": [
      "word:  I am home\n",
      "reverse word:  emoh ma I\n"
     ]
    }
   ],
   "source": [
    "def word_reverse(word):  \n",
    "    reverse_word = \"\"  \n",
    "    for i in word:  \n",
    "        reverse_word = i + reverse_word  \n",
    "    return reverse_word\n",
    "     \n",
    "word = \"I am home\"      \n",
    "print(\"word: \",word)  \n",
    "print(\"reverse word: \",word_reverse(word))\n"
   ]
  },
  {
   "cell_type": "code",
   "execution_count": null,
   "id": "99a9d3e3",
   "metadata": {},
   "outputs": [],
   "source": []
  }
 ],
 "metadata": {
  "kernelspec": {
   "display_name": "Python 3 (ipykernel)",
   "language": "python",
   "name": "python3"
  },
  "language_info": {
   "codemirror_mode": {
    "name": "ipython",
    "version": 3
   },
   "file_extension": ".py",
   "mimetype": "text/x-python",
   "name": "python",
   "nbconvert_exporter": "python",
   "pygments_lexer": "ipython3",
   "version": "3.9.12"
  }
 },
 "nbformat": 4,
 "nbformat_minor": 5
}
